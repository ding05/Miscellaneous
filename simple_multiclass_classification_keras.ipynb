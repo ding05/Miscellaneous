{
  "nbformat": 4,
  "nbformat_minor": 0,
  "metadata": {
    "colab": {
      "name": "Classify 100 numbers into 5 Categories with Keras.ipynb",
      "provenance": [],
      "collapsed_sections": []
    },
    "kernelspec": {
      "name": "python3",
      "display_name": "Python 3"
    },
    "language_info": {
      "name": "python"
    }
  },
  "cells": [
    {
      "cell_type": "markdown",
      "metadata": {
        "id": "vPY2Zy9cRWI7"
      },
      "source": [
        "# Classify 100 numbers into 5 Categories with Keras\n",
        "\n",
        "by Ding\n",
        "\n",
        "This notebook shows how to use a neural network for a (simple) classification problem.\n",
        "\n",
        "We want machine to learn to classify [0, 0.2) into Class 0, [0.2, 0.4) into Class 1, [0.4, 0.6) into Class 2, [0.6, 0.8) into Class 3 and [0.8, 1) into Class 4."
      ]
    },
    {
      "cell_type": "code",
      "metadata": {
        "id": "K8_HEZFBRVu2"
      },
      "source": [
        "import numpy as np\n",
        "import pandas as pd\n",
        "import matplotlib.pyplot as plt\n",
        "\n",
        "from sklearn.model_selection import train_test_split\n",
        "from sklearn.metrics import accuracy_score\n",
        "\n",
        "from tensorflow.keras import Sequential\n",
        "from tensorflow.keras.layers import Dense\n",
        "from keras.optimizers import Adam\n",
        "from keras.utils.np_utils import to_categorical"
      ],
      "execution_count": 1,
      "outputs": []
    },
    {
      "cell_type": "code",
      "metadata": {
        "colab": {
          "base_uri": "https://localhost:8080/"
        },
        "id": "xPjxMi8lRsaK",
        "outputId": "c6950cb5-9e97-4412-8ea6-1e27a0996b08"
      },
      "source": [
        "nums = np.arange(1, 101)\n",
        "nums"
      ],
      "execution_count": 2,
      "outputs": [
        {
          "output_type": "execute_result",
          "data": {
            "text/plain": [
              "array([  1,   2,   3,   4,   5,   6,   7,   8,   9,  10,  11,  12,  13,\n",
              "        14,  15,  16,  17,  18,  19,  20,  21,  22,  23,  24,  25,  26,\n",
              "        27,  28,  29,  30,  31,  32,  33,  34,  35,  36,  37,  38,  39,\n",
              "        40,  41,  42,  43,  44,  45,  46,  47,  48,  49,  50,  51,  52,\n",
              "        53,  54,  55,  56,  57,  58,  59,  60,  61,  62,  63,  64,  65,\n",
              "        66,  67,  68,  69,  70,  71,  72,  73,  74,  75,  76,  77,  78,\n",
              "        79,  80,  81,  82,  83,  84,  85,  86,  87,  88,  89,  90,  91,\n",
              "        92,  93,  94,  95,  96,  97,  98,  99, 100])"
            ]
          },
          "metadata": {
            "tags": []
          },
          "execution_count": 2
        }
      ]
    },
    {
      "cell_type": "code",
      "metadata": {
        "id": "P5KjJCSmRu3A"
      },
      "source": [
        "nums_1 = nums.reshape(100, 1)"
      ],
      "execution_count": 3,
      "outputs": []
    },
    {
      "cell_type": "code",
      "metadata": {
        "id": "GlMCaXEXRzBD"
      },
      "source": [
        "def normalize(x):\n",
        "    x1 = x - min(x)\n",
        "    x2 = max(x) - min(x)\n",
        "    return x1/x2\n",
        "\n",
        "nums_norm = normalize(nums_1) # Really need to normalize it?"
      ],
      "execution_count": 4,
      "outputs": []
    },
    {
      "cell_type": "code",
      "metadata": {
        "id": "XVfE1QDlR0b7"
      },
      "source": [
        "labels = np.zeros([100,1])\n",
        "\n",
        "labels[20:40] = 1\n",
        "labels[40:60] = 2\n",
        "labels[60:80] = 3\n",
        "labels[80:100] = 4"
      ],
      "execution_count": 5,
      "outputs": []
    },
    {
      "cell_type": "code",
      "metadata": {
        "id": "RFY3wezCR18l"
      },
      "source": [
        "x_train, x_test, y_train, y_test = train_test_split(nums_norm, labels, test_size=0.2)"
      ],
      "execution_count": 6,
      "outputs": []
    },
    {
      "cell_type": "code",
      "metadata": {
        "id": "OQotPPd2R4cJ"
      },
      "source": [
        "model = Sequential()\n",
        "model.add(Dense(8, activation='relu', kernel_initializer='he_normal', input_shape=(1,)))\n",
        "model.add(Dense(5, activation='softmax'))"
      ],
      "execution_count": 7,
      "outputs": []
    },
    {
      "cell_type": "code",
      "metadata": {
        "id": "1Glg7OURSBQT"
      },
      "source": [
        "model.compile(Adam(learning_rate=0.01), 'categorical_crossentropy', metrics=['accuracy'])"
      ],
      "execution_count": 8,
      "outputs": []
    },
    {
      "cell_type": "code",
      "metadata": {
        "id": "RBN6XjVqS9OW"
      },
      "source": [
        "def plot_loss_accuracy(history):\n",
        "    historydf = pd.DataFrame(history.history, index=history.epoch)\n",
        "    plt.figure(figsize=(8, 6))\n",
        "    historydf.plot(ylim=(0, max(1, historydf.values.max())))\n",
        "    loss = history.history['loss'][-1]\n",
        "    acc = history.history['accuracy'][-1]\n",
        "    plt.title('Loss: %.3f, Accuracy: %.3f' % (loss, acc))"
      ],
      "execution_count": 9,
      "outputs": []
    },
    {
      "cell_type": "code",
      "metadata": {
        "id": "MBJnhWCST3dd"
      },
      "source": [
        "y_cat = to_categorical(y_train)"
      ],
      "execution_count": 10,
      "outputs": []
    },
    {
      "cell_type": "code",
      "metadata": {
        "colab": {
          "base_uri": "https://localhost:8080/",
          "height": 299
        },
        "id": "YdOdUbVgSuaa",
        "outputId": "e917854f-234a-4b04-fddb-1bdfcaa99dd0"
      },
      "source": [
        "history = model.fit(x_train, y_cat, verbose=0, epochs=250)\n",
        "plot_loss_accuracy(history)"
      ],
      "execution_count": 11,
      "outputs": [
        {
          "output_type": "display_data",
          "data": {
            "text/plain": [
              "<Figure size 576x432 with 0 Axes>"
            ]
          },
          "metadata": {
            "tags": []
          }
        },
        {
          "output_type": "display_data",
          "data": {
            "image/png": "[encoded data removed]",
            "text/plain": [
              "<Figure size 432x288 with 1 Axes>"
            ]
          },
          "metadata": {
            "tags": [],
            "needs_background": "light"
          }
        }
      ]
    },
    {
      "cell_type": "code",
      "metadata": {
        "id": "nguXa9O0W5u-"
      },
      "source": [
        "def predict(x_test):\n",
        "    x_test = x_test.tolist()\n",
        "    ans = []\n",
        "    for t in x_test:\n",
        "      ans.append(t.index(max(t))) # Find the position (index) of the largest probability among the five predicted probabilities\n",
        "    return ans"
      ],
      "execution_count": 12,
      "outputs": []
    },
    {
      "cell_type": "code",
      "metadata": {
        "colab": {
          "base_uri": "https://localhost:8080/"
        },
        "id": "RxmXuWwtVshl",
        "outputId": "d1167491-1468-454a-fa31-ab2e4f1b3335"
      },
      "source": [
        "y_test_eva = y_test.reshape(-1)\n",
        "print(\"Observation:\")\n",
        "print(y_test_eva)\n",
        "print(\"Prediction:\")\n",
        "y_pred_eva = np.array(predict(model.predict(x_test)), dtype='float64')\n",
        "print(y_pred_eva)\n",
        "\n",
        "print(\"Accuracy:\")\n",
        "print(accuracy_score(y_pred_eva, y_test_eva))"
      ],
      "execution_count": 13,
      "outputs": [
        {
          "output_type": "stream",
          "text": [
            "Observation:\n",
            "[3. 2. 3. 4. 2. 1. 4. 1. 3. 2. 2. 4. 4. 4. 4. 4. 1. 2. 4. 3.]\n",
            "Prediction:\n",
            "[3. 2. 3. 4. 2. 1. 4. 1. 3. 2. 2. 4. 4. 4. 3. 4. 1. 2. 4. 3.]\n",
            "Accuracy:\n",
            "0.95\n"
          ],
          "name": "stdout"
        }
      ]
    }
  ]
}